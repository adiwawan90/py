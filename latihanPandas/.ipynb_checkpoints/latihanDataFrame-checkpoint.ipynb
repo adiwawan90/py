{
 "cells": [
  {
   "cell_type": "code",
   "execution_count": 56,
   "metadata": {},
   "outputs": [],
   "source": [
    "import numpy as np\n",
    "import pandas as pd"
   ]
  },
  {
   "cell_type": "code",
   "execution_count": 2,
   "metadata": {},
   "outputs": [
    {
     "data": {
      "text/html": [
       "<div>\n",
       "<style scoped>\n",
       "    .dataframe tbody tr th:only-of-type {\n",
       "        vertical-align: middle;\n",
       "    }\n",
       "\n",
       "    .dataframe tbody tr th {\n",
       "        vertical-align: top;\n",
       "    }\n",
       "\n",
       "    .dataframe thead th {\n",
       "        text-align: right;\n",
       "    }\n",
       "</style>\n",
       "<table border=\"1\" class=\"dataframe\">\n",
       "  <thead>\n",
       "    <tr style=\"text-align: right;\">\n",
       "      <th></th>\n",
       "      <th>W</th>\n",
       "      <th>X</th>\n",
       "      <th>Y</th>\n",
       "      <th>Z</th>\n",
       "    </tr>\n",
       "  </thead>\n",
       "  <tbody>\n",
       "    <tr>\n",
       "      <td>A</td>\n",
       "      <td>0.941346</td>\n",
       "      <td>-1.382468</td>\n",
       "      <td>-1.992532</td>\n",
       "      <td>0.143567</td>\n",
       "    </tr>\n",
       "    <tr>\n",
       "      <td>B</td>\n",
       "      <td>1.079978</td>\n",
       "      <td>-1.634423</td>\n",
       "      <td>-1.727656</td>\n",
       "      <td>-0.074905</td>\n",
       "    </tr>\n",
       "    <tr>\n",
       "      <td>C</td>\n",
       "      <td>-0.776402</td>\n",
       "      <td>-0.412992</td>\n",
       "      <td>-0.217633</td>\n",
       "      <td>-2.875143</td>\n",
       "    </tr>\n",
       "    <tr>\n",
       "      <td>D</td>\n",
       "      <td>-1.357142</td>\n",
       "      <td>-1.483163</td>\n",
       "      <td>0.454048</td>\n",
       "      <td>0.511561</td>\n",
       "    </tr>\n",
       "    <tr>\n",
       "      <td>E</td>\n",
       "      <td>0.335134</td>\n",
       "      <td>-0.136648</td>\n",
       "      <td>0.202444</td>\n",
       "      <td>-0.934805</td>\n",
       "    </tr>\n",
       "  </tbody>\n",
       "</table>\n",
       "</div>"
      ],
      "text/plain": [
       "          W         X         Y         Z\n",
       "A  0.941346 -1.382468 -1.992532  0.143567\n",
       "B  1.079978 -1.634423 -1.727656 -0.074905\n",
       "C -0.776402 -0.412992 -0.217633 -2.875143\n",
       "D -1.357142 -1.483163  0.454048  0.511561\n",
       "E  0.335134 -0.136648  0.202444 -0.934805"
      ]
     },
     "execution_count": 2,
     "metadata": {},
     "output_type": "execute_result"
    }
   ],
   "source": [
    "# Membuat dataFrame dgn random data,terdiri dr 5 baris dan 4 kolom\n",
    "# Dengan indexnya adalah A B C Dyang di split\n",
    "# Spti di JS, split digunakan untuk memotong mjdkan sebuah Array\n",
    "# Menetapkan Kolomnya adalah W, X, Y, Z yg di split\n",
    "df = pd.DataFrame(np.random.randn(5,4), index='A B C D E'.split(), columns='W X Y Z'.split())\n",
    "df"
   ]
  },
  {
   "cell_type": "code",
   "execution_count": 3,
   "metadata": {},
   "outputs": [
    {
     "data": {
      "text/plain": [
       "A    0.941346\n",
       "B    1.079978\n",
       "C   -0.776402\n",
       "D   -1.357142\n",
       "E    0.335134\n",
       "Name: W, dtype: float64"
      ]
     },
     "execution_count": 3,
     "metadata": {},
     "output_type": "execute_result"
    }
   ],
   "source": [
    "# Menampilkan data pd kolom, \n",
    "# 1. df['W']\n",
    "# 2. df.W\n",
    "df['W']"
   ]
  },
  {
   "cell_type": "code",
   "execution_count": 4,
   "metadata": {},
   "outputs": [
    {
     "data": {
      "text/html": [
       "<div>\n",
       "<style scoped>\n",
       "    .dataframe tbody tr th:only-of-type {\n",
       "        vertical-align: middle;\n",
       "    }\n",
       "\n",
       "    .dataframe tbody tr th {\n",
       "        vertical-align: top;\n",
       "    }\n",
       "\n",
       "    .dataframe thead th {\n",
       "        text-align: right;\n",
       "    }\n",
       "</style>\n",
       "<table border=\"1\" class=\"dataframe\">\n",
       "  <thead>\n",
       "    <tr style=\"text-align: right;\">\n",
       "      <th></th>\n",
       "      <th>W</th>\n",
       "      <th>Z</th>\n",
       "      <th>Y</th>\n",
       "    </tr>\n",
       "  </thead>\n",
       "  <tbody>\n",
       "    <tr>\n",
       "      <td>A</td>\n",
       "      <td>0.941346</td>\n",
       "      <td>0.143567</td>\n",
       "      <td>-1.992532</td>\n",
       "    </tr>\n",
       "    <tr>\n",
       "      <td>B</td>\n",
       "      <td>1.079978</td>\n",
       "      <td>-0.074905</td>\n",
       "      <td>-1.727656</td>\n",
       "    </tr>\n",
       "    <tr>\n",
       "      <td>C</td>\n",
       "      <td>-0.776402</td>\n",
       "      <td>-2.875143</td>\n",
       "      <td>-0.217633</td>\n",
       "    </tr>\n",
       "    <tr>\n",
       "      <td>D</td>\n",
       "      <td>-1.357142</td>\n",
       "      <td>0.511561</td>\n",
       "      <td>0.454048</td>\n",
       "    </tr>\n",
       "    <tr>\n",
       "      <td>E</td>\n",
       "      <td>0.335134</td>\n",
       "      <td>-0.934805</td>\n",
       "      <td>0.202444</td>\n",
       "    </tr>\n",
       "  </tbody>\n",
       "</table>\n",
       "</div>"
      ],
      "text/plain": [
       "          W         Z         Y\n",
       "A  0.941346  0.143567 -1.992532\n",
       "B  1.079978 -0.074905 -1.727656\n",
       "C -0.776402 -2.875143 -0.217633\n",
       "D -1.357142  0.511561  0.454048\n",
       "E  0.335134 -0.934805  0.202444"
      ]
     },
     "execution_count": 4,
     "metadata": {},
     "output_type": "execute_result"
    }
   ],
   "source": [
    "# Menampilkan dua kolom sekaligus\n",
    "# df[['W', 'Z', dst.]]\n",
    "df[['W', 'Z', 'Y']]"
   ]
  },
  {
   "cell_type": "code",
   "execution_count": 5,
   "metadata": {},
   "outputs": [
    {
     "data": {
      "text/html": [
       "<div>\n",
       "<style scoped>\n",
       "    .dataframe tbody tr th:only-of-type {\n",
       "        vertical-align: middle;\n",
       "    }\n",
       "\n",
       "    .dataframe tbody tr th {\n",
       "        vertical-align: top;\n",
       "    }\n",
       "\n",
       "    .dataframe thead th {\n",
       "        text-align: right;\n",
       "    }\n",
       "</style>\n",
       "<table border=\"1\" class=\"dataframe\">\n",
       "  <thead>\n",
       "    <tr style=\"text-align: right;\">\n",
       "      <th></th>\n",
       "      <th>W</th>\n",
       "      <th>X</th>\n",
       "      <th>Y</th>\n",
       "      <th>Z</th>\n",
       "      <th>Baru</th>\n",
       "    </tr>\n",
       "  </thead>\n",
       "  <tbody>\n",
       "    <tr>\n",
       "      <td>A</td>\n",
       "      <td>0.941346</td>\n",
       "      <td>-1.382468</td>\n",
       "      <td>-1.992532</td>\n",
       "      <td>0.143567</td>\n",
       "      <td>-1.051187</td>\n",
       "    </tr>\n",
       "    <tr>\n",
       "      <td>B</td>\n",
       "      <td>1.079978</td>\n",
       "      <td>-1.634423</td>\n",
       "      <td>-1.727656</td>\n",
       "      <td>-0.074905</td>\n",
       "      <td>-0.647678</td>\n",
       "    </tr>\n",
       "    <tr>\n",
       "      <td>C</td>\n",
       "      <td>-0.776402</td>\n",
       "      <td>-0.412992</td>\n",
       "      <td>-0.217633</td>\n",
       "      <td>-2.875143</td>\n",
       "      <td>-0.994035</td>\n",
       "    </tr>\n",
       "    <tr>\n",
       "      <td>D</td>\n",
       "      <td>-1.357142</td>\n",
       "      <td>-1.483163</td>\n",
       "      <td>0.454048</td>\n",
       "      <td>0.511561</td>\n",
       "      <td>-0.903094</td>\n",
       "    </tr>\n",
       "    <tr>\n",
       "      <td>E</td>\n",
       "      <td>0.335134</td>\n",
       "      <td>-0.136648</td>\n",
       "      <td>0.202444</td>\n",
       "      <td>-0.934805</td>\n",
       "      <td>0.537578</td>\n",
       "    </tr>\n",
       "  </tbody>\n",
       "</table>\n",
       "</div>"
      ],
      "text/plain": [
       "          W         X         Y         Z      Baru\n",
       "A  0.941346 -1.382468 -1.992532  0.143567 -1.051187\n",
       "B  1.079978 -1.634423 -1.727656 -0.074905 -0.647678\n",
       "C -0.776402 -0.412992 -0.217633 -2.875143 -0.994035\n",
       "D -1.357142 -1.483163  0.454048  0.511561 -0.903094\n",
       "E  0.335134 -0.136648  0.202444 -0.934805  0.537578"
      ]
     },
     "execution_count": 5,
     "metadata": {},
     "output_type": "execute_result"
    }
   ],
   "source": [
    "# Menampilkan kolom baru, yg datanya diambil dr W ditambah kolom Y dll\n",
    "df['Baru'] = df['W'] + df['Y']\n",
    "df"
   ]
  },
  {
   "cell_type": "code",
   "execution_count": 10,
   "metadata": {},
   "outputs": [
    {
     "data": {
      "text/plain": [
       "A    1.087452\n",
       "B    0.928453\n",
       "C    1.170179\n",
       "D   -0.371291\n",
       "E   -0.069290\n",
       "Name: Baru, dtype: float64"
      ]
     },
     "execution_count": 10,
     "metadata": {},
     "output_type": "execute_result"
    }
   ],
   "source": [
    "df['Baru']"
   ]
  },
  {
   "cell_type": "code",
   "execution_count": 6,
   "metadata": {},
   "outputs": [
    {
     "data": {
      "text/html": [
       "<div>\n",
       "<style scoped>\n",
       "    .dataframe tbody tr th:only-of-type {\n",
       "        vertical-align: middle;\n",
       "    }\n",
       "\n",
       "    .dataframe tbody tr th {\n",
       "        vertical-align: top;\n",
       "    }\n",
       "\n",
       "    .dataframe thead th {\n",
       "        text-align: right;\n",
       "    }\n",
       "</style>\n",
       "<table border=\"1\" class=\"dataframe\">\n",
       "  <thead>\n",
       "    <tr style=\"text-align: right;\">\n",
       "      <th></th>\n",
       "      <th>W</th>\n",
       "      <th>X</th>\n",
       "      <th>Y</th>\n",
       "      <th>Z</th>\n",
       "    </tr>\n",
       "  </thead>\n",
       "  <tbody>\n",
       "    <tr>\n",
       "      <td>A</td>\n",
       "      <td>0.941346</td>\n",
       "      <td>-1.382468</td>\n",
       "      <td>-1.992532</td>\n",
       "      <td>0.143567</td>\n",
       "    </tr>\n",
       "    <tr>\n",
       "      <td>B</td>\n",
       "      <td>1.079978</td>\n",
       "      <td>-1.634423</td>\n",
       "      <td>-1.727656</td>\n",
       "      <td>-0.074905</td>\n",
       "    </tr>\n",
       "    <tr>\n",
       "      <td>C</td>\n",
       "      <td>-0.776402</td>\n",
       "      <td>-0.412992</td>\n",
       "      <td>-0.217633</td>\n",
       "      <td>-2.875143</td>\n",
       "    </tr>\n",
       "    <tr>\n",
       "      <td>D</td>\n",
       "      <td>-1.357142</td>\n",
       "      <td>-1.483163</td>\n",
       "      <td>0.454048</td>\n",
       "      <td>0.511561</td>\n",
       "    </tr>\n",
       "    <tr>\n",
       "      <td>E</td>\n",
       "      <td>0.335134</td>\n",
       "      <td>-0.136648</td>\n",
       "      <td>0.202444</td>\n",
       "      <td>-0.934805</td>\n",
       "    </tr>\n",
       "  </tbody>\n",
       "</table>\n",
       "</div>"
      ],
      "text/plain": [
       "          W         X         Y         Z\n",
       "A  0.941346 -1.382468 -1.992532  0.143567\n",
       "B  1.079978 -1.634423 -1.727656 -0.074905\n",
       "C -0.776402 -0.412992 -0.217633 -2.875143\n",
       "D -1.357142 -1.483163  0.454048  0.511561\n",
       "E  0.335134 -0.136648  0.202444 -0.934805"
      ]
     },
     "execution_count": 6,
     "metadata": {},
     "output_type": "execute_result"
    }
   ],
   "source": [
    "# MENGHAPUS KOLOM\n",
    "df.drop('Baru', axis=1)\n",
    "# jika axis=0 -> menampilkan Index\n",
    "# jika axis=1 -> menampilkan Kolom\n",
    "# Ini tidak benar2 menghapus data kolomnya. bisa di lihat. T"
   ]
  },
  {
   "cell_type": "code",
   "execution_count": 12,
   "metadata": {},
   "outputs": [
    {
     "data": {
      "text/html": [
       "<div>\n",
       "<style scoped>\n",
       "    .dataframe tbody tr th:only-of-type {\n",
       "        vertical-align: middle;\n",
       "    }\n",
       "\n",
       "    .dataframe tbody tr th {\n",
       "        vertical-align: top;\n",
       "    }\n",
       "\n",
       "    .dataframe thead th {\n",
       "        text-align: right;\n",
       "    }\n",
       "</style>\n",
       "<table border=\"1\" class=\"dataframe\">\n",
       "  <thead>\n",
       "    <tr style=\"text-align: right;\">\n",
       "      <th></th>\n",
       "      <th>W</th>\n",
       "      <th>X</th>\n",
       "      <th>Y</th>\n",
       "      <th>Z</th>\n",
       "      <th>Baru</th>\n",
       "    </tr>\n",
       "  </thead>\n",
       "  <tbody>\n",
       "    <tr>\n",
       "      <td>A</td>\n",
       "      <td>0.800581</td>\n",
       "      <td>-1.414501</td>\n",
       "      <td>0.286871</td>\n",
       "      <td>0.899444</td>\n",
       "      <td>1.087452</td>\n",
       "    </tr>\n",
       "    <tr>\n",
       "      <td>B</td>\n",
       "      <td>0.507926</td>\n",
       "      <td>0.148302</td>\n",
       "      <td>0.420527</td>\n",
       "      <td>0.756216</td>\n",
       "      <td>0.928453</td>\n",
       "    </tr>\n",
       "    <tr>\n",
       "      <td>C</td>\n",
       "      <td>1.323612</td>\n",
       "      <td>0.946463</td>\n",
       "      <td>-0.153433</td>\n",
       "      <td>0.753556</td>\n",
       "      <td>1.170179</td>\n",
       "    </tr>\n",
       "    <tr>\n",
       "      <td>D</td>\n",
       "      <td>1.341074</td>\n",
       "      <td>-0.384369</td>\n",
       "      <td>-1.712365</td>\n",
       "      <td>2.235384</td>\n",
       "      <td>-0.371291</td>\n",
       "    </tr>\n",
       "    <tr>\n",
       "      <td>E</td>\n",
       "      <td>0.050315</td>\n",
       "      <td>0.374653</td>\n",
       "      <td>-0.119606</td>\n",
       "      <td>1.192155</td>\n",
       "      <td>-0.069290</td>\n",
       "    </tr>\n",
       "  </tbody>\n",
       "</table>\n",
       "</div>"
      ],
      "text/plain": [
       "          W         X         Y         Z      Baru\n",
       "A  0.800581 -1.414501  0.286871  0.899444  1.087452\n",
       "B  0.507926  0.148302  0.420527  0.756216  0.928453\n",
       "C  1.323612  0.946463 -0.153433  0.753556  1.170179\n",
       "D  1.341074 -0.384369 -1.712365  2.235384 -0.371291\n",
       "E  0.050315  0.374653 -0.119606  1.192155 -0.069290"
      ]
     },
     "execution_count": 12,
     "metadata": {},
     "output_type": "execute_result"
    }
   ],
   "source": [
    "# Memakai cara diatas bisa menghapus, namun jika dipanggil kembali\n",
    "df"
   ]
  },
  {
   "cell_type": "code",
   "execution_count": 7,
   "metadata": {},
   "outputs": [
    {
     "data": {
      "text/html": [
       "<div>\n",
       "<style scoped>\n",
       "    .dataframe tbody tr th:only-of-type {\n",
       "        vertical-align: middle;\n",
       "    }\n",
       "\n",
       "    .dataframe tbody tr th {\n",
       "        vertical-align: top;\n",
       "    }\n",
       "\n",
       "    .dataframe thead th {\n",
       "        text-align: right;\n",
       "    }\n",
       "</style>\n",
       "<table border=\"1\" class=\"dataframe\">\n",
       "  <thead>\n",
       "    <tr style=\"text-align: right;\">\n",
       "      <th></th>\n",
       "      <th>W</th>\n",
       "      <th>X</th>\n",
       "      <th>Y</th>\n",
       "      <th>Z</th>\n",
       "    </tr>\n",
       "  </thead>\n",
       "  <tbody>\n",
       "    <tr>\n",
       "      <td>A</td>\n",
       "      <td>0.941346</td>\n",
       "      <td>-1.382468</td>\n",
       "      <td>-1.992532</td>\n",
       "      <td>0.143567</td>\n",
       "    </tr>\n",
       "    <tr>\n",
       "      <td>B</td>\n",
       "      <td>1.079978</td>\n",
       "      <td>-1.634423</td>\n",
       "      <td>-1.727656</td>\n",
       "      <td>-0.074905</td>\n",
       "    </tr>\n",
       "    <tr>\n",
       "      <td>C</td>\n",
       "      <td>-0.776402</td>\n",
       "      <td>-0.412992</td>\n",
       "      <td>-0.217633</td>\n",
       "      <td>-2.875143</td>\n",
       "    </tr>\n",
       "    <tr>\n",
       "      <td>D</td>\n",
       "      <td>-1.357142</td>\n",
       "      <td>-1.483163</td>\n",
       "      <td>0.454048</td>\n",
       "      <td>0.511561</td>\n",
       "    </tr>\n",
       "    <tr>\n",
       "      <td>E</td>\n",
       "      <td>0.335134</td>\n",
       "      <td>-0.136648</td>\n",
       "      <td>0.202444</td>\n",
       "      <td>-0.934805</td>\n",
       "    </tr>\n",
       "  </tbody>\n",
       "</table>\n",
       "</div>"
      ],
      "text/plain": [
       "          W         X         Y         Z\n",
       "A  0.941346 -1.382468 -1.992532  0.143567\n",
       "B  1.079978 -1.634423 -1.727656 -0.074905\n",
       "C -0.776402 -0.412992 -0.217633 -2.875143\n",
       "D -1.357142 -1.483163  0.454048  0.511561\n",
       "E  0.335134 -0.136648  0.202444 -0.934805"
      ]
     },
     "execution_count": 7,
     "metadata": {},
     "output_type": "execute_result"
    }
   ],
   "source": [
    "# Caranya adalah:\n",
    "# Ketika inplace 'TRUE' makan mengeksekusi secara langsung\n",
    "# Tetapi tidak bisa menampilkanlangsung Datanya\n",
    "df.drop('Baru', axis=1, inplace=True)\n",
    "df"
   ]
  },
  {
   "cell_type": "code",
   "execution_count": 8,
   "metadata": {},
   "outputs": [
    {
     "data": {
      "text/html": [
       "<div>\n",
       "<style scoped>\n",
       "    .dataframe tbody tr th:only-of-type {\n",
       "        vertical-align: middle;\n",
       "    }\n",
       "\n",
       "    .dataframe tbody tr th {\n",
       "        vertical-align: top;\n",
       "    }\n",
       "\n",
       "    .dataframe thead th {\n",
       "        text-align: right;\n",
       "    }\n",
       "</style>\n",
       "<table border=\"1\" class=\"dataframe\">\n",
       "  <thead>\n",
       "    <tr style=\"text-align: right;\">\n",
       "      <th></th>\n",
       "      <th>W</th>\n",
       "      <th>X</th>\n",
       "      <th>Y</th>\n",
       "      <th>Z</th>\n",
       "    </tr>\n",
       "  </thead>\n",
       "  <tbody>\n",
       "    <tr>\n",
       "      <td>A</td>\n",
       "      <td>0.941346</td>\n",
       "      <td>-1.382468</td>\n",
       "      <td>-1.992532</td>\n",
       "      <td>0.143567</td>\n",
       "    </tr>\n",
       "    <tr>\n",
       "      <td>B</td>\n",
       "      <td>1.079978</td>\n",
       "      <td>-1.634423</td>\n",
       "      <td>-1.727656</td>\n",
       "      <td>-0.074905</td>\n",
       "    </tr>\n",
       "    <tr>\n",
       "      <td>C</td>\n",
       "      <td>-0.776402</td>\n",
       "      <td>-0.412992</td>\n",
       "      <td>-0.217633</td>\n",
       "      <td>-2.875143</td>\n",
       "    </tr>\n",
       "    <tr>\n",
       "      <td>D</td>\n",
       "      <td>-1.357142</td>\n",
       "      <td>-1.483163</td>\n",
       "      <td>0.454048</td>\n",
       "      <td>0.511561</td>\n",
       "    </tr>\n",
       "  </tbody>\n",
       "</table>\n",
       "</div>"
      ],
      "text/plain": [
       "          W         X         Y         Z\n",
       "A  0.941346 -1.382468 -1.992532  0.143567\n",
       "B  1.079978 -1.634423 -1.727656 -0.074905\n",
       "C -0.776402 -0.412992 -0.217633 -2.875143\n",
       "D -1.357142 -1.483163  0.454048  0.511561"
      ]
     },
     "execution_count": 8,
     "metadata": {},
     "output_type": "execute_result"
    }
   ],
   "source": [
    "# MENGHAPUS BARIS\n",
    "# dengan axis=0\n",
    "df.drop('E', axis=0)"
   ]
  },
  {
   "cell_type": "code",
   "execution_count": 9,
   "metadata": {},
   "outputs": [
    {
     "data": {
      "text/html": [
       "<div>\n",
       "<style scoped>\n",
       "    .dataframe tbody tr th:only-of-type {\n",
       "        vertical-align: middle;\n",
       "    }\n",
       "\n",
       "    .dataframe tbody tr th {\n",
       "        vertical-align: top;\n",
       "    }\n",
       "\n",
       "    .dataframe thead th {\n",
       "        text-align: right;\n",
       "    }\n",
       "</style>\n",
       "<table border=\"1\" class=\"dataframe\">\n",
       "  <thead>\n",
       "    <tr style=\"text-align: right;\">\n",
       "      <th></th>\n",
       "      <th>W</th>\n",
       "      <th>X</th>\n",
       "      <th>Y</th>\n",
       "      <th>Z</th>\n",
       "    </tr>\n",
       "  </thead>\n",
       "  <tbody>\n",
       "    <tr>\n",
       "      <td>A</td>\n",
       "      <td>0.941346</td>\n",
       "      <td>-1.382468</td>\n",
       "      <td>-1.992532</td>\n",
       "      <td>0.143567</td>\n",
       "    </tr>\n",
       "    <tr>\n",
       "      <td>B</td>\n",
       "      <td>1.079978</td>\n",
       "      <td>-1.634423</td>\n",
       "      <td>-1.727656</td>\n",
       "      <td>-0.074905</td>\n",
       "    </tr>\n",
       "    <tr>\n",
       "      <td>C</td>\n",
       "      <td>-0.776402</td>\n",
       "      <td>-0.412992</td>\n",
       "      <td>-0.217633</td>\n",
       "      <td>-2.875143</td>\n",
       "    </tr>\n",
       "    <tr>\n",
       "      <td>D</td>\n",
       "      <td>-1.357142</td>\n",
       "      <td>-1.483163</td>\n",
       "      <td>0.454048</td>\n",
       "      <td>0.511561</td>\n",
       "    </tr>\n",
       "    <tr>\n",
       "      <td>E</td>\n",
       "      <td>0.335134</td>\n",
       "      <td>-0.136648</td>\n",
       "      <td>0.202444</td>\n",
       "      <td>-0.934805</td>\n",
       "    </tr>\n",
       "  </tbody>\n",
       "</table>\n",
       "</div>"
      ],
      "text/plain": [
       "          W         X         Y         Z\n",
       "A  0.941346 -1.382468 -1.992532  0.143567\n",
       "B  1.079978 -1.634423 -1.727656 -0.074905\n",
       "C -0.776402 -0.412992 -0.217633 -2.875143\n",
       "D -1.357142 -1.483163  0.454048  0.511561\n",
       "E  0.335134 -0.136648  0.202444 -0.934805"
      ]
     },
     "execution_count": 9,
     "metadata": {},
     "output_type": "execute_result"
    }
   ],
   "source": [
    "# Sama halnya, ara diatas hanya kelihatannya saja terhapus\n",
    "# jika di cetak kembali datanya masih ada\n",
    "df"
   ]
  },
  {
   "cell_type": "code",
   "execution_count": 12,
   "metadata": {},
   "outputs": [
    {
     "data": {
      "text/plain": [
       "W    0.941346\n",
       "X   -1.382468\n",
       "Y   -1.992532\n",
       "Z    0.143567\n",
       "Name: A, dtype: float64"
      ]
     },
     "execution_count": 12,
     "metadata": {},
     "output_type": "execute_result"
    }
   ],
   "source": [
    "# Menampilkan data index labels 'A'\n",
    "df.loc['A']"
   ]
  },
  {
   "cell_type": "code",
   "execution_count": 13,
   "metadata": {},
   "outputs": [
    {
     "data": {
      "text/plain": [
       "W   -1.357142\n",
       "X   -1.483163\n",
       "Y    0.454048\n",
       "Z    0.511561\n",
       "Name: D, dtype: float64"
      ]
     },
     "execution_count": 13,
     "metadata": {},
     "output_type": "execute_result"
    }
   ],
   "source": [
    "# Menampilkan data by index\n",
    "df.iloc[3]"
   ]
  },
  {
   "cell_type": "code",
   "execution_count": 14,
   "metadata": {},
   "outputs": [
    {
     "data": {
      "text/plain": [
       "-0.412992251803268"
      ]
     },
     "execution_count": 14,
     "metadata": {},
     "output_type": "execute_result"
    }
   ],
   "source": [
    "# Mendapatkan data lebih terperini\n",
    "df.loc['C', 'X'] # Ini akan mempilkan baris C, kolom X"
   ]
  },
  {
   "cell_type": "code",
   "execution_count": 15,
   "metadata": {},
   "outputs": [
    {
     "data": {
      "text/html": [
       "<div>\n",
       "<style scoped>\n",
       "    .dataframe tbody tr th:only-of-type {\n",
       "        vertical-align: middle;\n",
       "    }\n",
       "\n",
       "    .dataframe tbody tr th {\n",
       "        vertical-align: top;\n",
       "    }\n",
       "\n",
       "    .dataframe thead th {\n",
       "        text-align: right;\n",
       "    }\n",
       "</style>\n",
       "<table border=\"1\" class=\"dataframe\">\n",
       "  <thead>\n",
       "    <tr style=\"text-align: right;\">\n",
       "      <th></th>\n",
       "      <th>X</th>\n",
       "      <th>Y</th>\n",
       "    </tr>\n",
       "  </thead>\n",
       "  <tbody>\n",
       "    <tr>\n",
       "      <td>A</td>\n",
       "      <td>-1.382468</td>\n",
       "      <td>-1.992532</td>\n",
       "    </tr>\n",
       "    <tr>\n",
       "      <td>B</td>\n",
       "      <td>-1.634423</td>\n",
       "      <td>-1.727656</td>\n",
       "    </tr>\n",
       "  </tbody>\n",
       "</table>\n",
       "</div>"
      ],
      "text/plain": [
       "          X         Y\n",
       "A -1.382468 -1.992532\n",
       "B -1.634423 -1.727656"
      ]
     },
     "execution_count": 15,
     "metadata": {},
     "output_type": "execute_result"
    }
   ],
   "source": [
    "# Menampilkan data dari Baris A & B. Kolom X & Y\n",
    "df.loc[['A', 'B'], ['X', 'Y']]"
   ]
  },
  {
   "cell_type": "code",
   "execution_count": 16,
   "metadata": {},
   "outputs": [
    {
     "data": {
      "text/html": [
       "<div>\n",
       "<style scoped>\n",
       "    .dataframe tbody tr th:only-of-type {\n",
       "        vertical-align: middle;\n",
       "    }\n",
       "\n",
       "    .dataframe tbody tr th {\n",
       "        vertical-align: top;\n",
       "    }\n",
       "\n",
       "    .dataframe thead th {\n",
       "        text-align: right;\n",
       "    }\n",
       "</style>\n",
       "<table border=\"1\" class=\"dataframe\">\n",
       "  <thead>\n",
       "    <tr style=\"text-align: right;\">\n",
       "      <th></th>\n",
       "      <th>W</th>\n",
       "      <th>X</th>\n",
       "      <th>Y</th>\n",
       "      <th>Z</th>\n",
       "    </tr>\n",
       "  </thead>\n",
       "  <tbody>\n",
       "    <tr>\n",
       "      <td>A</td>\n",
       "      <td>True</td>\n",
       "      <td>False</td>\n",
       "      <td>False</td>\n",
       "      <td>True</td>\n",
       "    </tr>\n",
       "    <tr>\n",
       "      <td>B</td>\n",
       "      <td>True</td>\n",
       "      <td>False</td>\n",
       "      <td>False</td>\n",
       "      <td>False</td>\n",
       "    </tr>\n",
       "    <tr>\n",
       "      <td>C</td>\n",
       "      <td>False</td>\n",
       "      <td>False</td>\n",
       "      <td>False</td>\n",
       "      <td>False</td>\n",
       "    </tr>\n",
       "    <tr>\n",
       "      <td>D</td>\n",
       "      <td>False</td>\n",
       "      <td>False</td>\n",
       "      <td>True</td>\n",
       "      <td>True</td>\n",
       "    </tr>\n",
       "    <tr>\n",
       "      <td>E</td>\n",
       "      <td>True</td>\n",
       "      <td>False</td>\n",
       "      <td>True</td>\n",
       "      <td>False</td>\n",
       "    </tr>\n",
       "  </tbody>\n",
       "</table>\n",
       "</div>"
      ],
      "text/plain": [
       "       W      X      Y      Z\n",
       "A   True  False  False   True\n",
       "B   True  False  False  False\n",
       "C  False  False  False  False\n",
       "D  False  False   True   True\n",
       "E   True  False   True  False"
      ]
     },
     "execution_count": 16,
     "metadata": {},
     "output_type": "execute_result"
    }
   ],
   "source": [
    "# SELEKSI KONDISI\n",
    "# Seleksi data yang lebih dr 0\n",
    "df > 0 # Menghasilkan nilai boolean(True/False)"
   ]
  },
  {
   "cell_type": "code",
   "execution_count": 17,
   "metadata": {},
   "outputs": [
    {
     "data": {
      "text/html": [
       "<div>\n",
       "<style scoped>\n",
       "    .dataframe tbody tr th:only-of-type {\n",
       "        vertical-align: middle;\n",
       "    }\n",
       "\n",
       "    .dataframe tbody tr th {\n",
       "        vertical-align: top;\n",
       "    }\n",
       "\n",
       "    .dataframe thead th {\n",
       "        text-align: right;\n",
       "    }\n",
       "</style>\n",
       "<table border=\"1\" class=\"dataframe\">\n",
       "  <thead>\n",
       "    <tr style=\"text-align: right;\">\n",
       "      <th></th>\n",
       "      <th>W</th>\n",
       "      <th>X</th>\n",
       "      <th>Y</th>\n",
       "      <th>Z</th>\n",
       "    </tr>\n",
       "  </thead>\n",
       "  <tbody>\n",
       "    <tr>\n",
       "      <td>A</td>\n",
       "      <td>0.941346</td>\n",
       "      <td>NaN</td>\n",
       "      <td>NaN</td>\n",
       "      <td>0.143567</td>\n",
       "    </tr>\n",
       "    <tr>\n",
       "      <td>B</td>\n",
       "      <td>1.079978</td>\n",
       "      <td>NaN</td>\n",
       "      <td>NaN</td>\n",
       "      <td>NaN</td>\n",
       "    </tr>\n",
       "    <tr>\n",
       "      <td>C</td>\n",
       "      <td>NaN</td>\n",
       "      <td>NaN</td>\n",
       "      <td>NaN</td>\n",
       "      <td>NaN</td>\n",
       "    </tr>\n",
       "    <tr>\n",
       "      <td>D</td>\n",
       "      <td>NaN</td>\n",
       "      <td>NaN</td>\n",
       "      <td>0.454048</td>\n",
       "      <td>0.511561</td>\n",
       "    </tr>\n",
       "    <tr>\n",
       "      <td>E</td>\n",
       "      <td>0.335134</td>\n",
       "      <td>NaN</td>\n",
       "      <td>0.202444</td>\n",
       "      <td>NaN</td>\n",
       "    </tr>\n",
       "  </tbody>\n",
       "</table>\n",
       "</div>"
      ],
      "text/plain": [
       "          W   X         Y         Z\n",
       "A  0.941346 NaN       NaN  0.143567\n",
       "B  1.079978 NaN       NaN       NaN\n",
       "C       NaN NaN       NaN       NaN\n",
       "D       NaN NaN  0.454048  0.511561\n",
       "E  0.335134 NaN  0.202444       NaN"
      ]
     },
     "execution_count": 17,
     "metadata": {},
     "output_type": "execute_result"
    }
   ],
   "source": [
    "df[df > 0]"
   ]
  },
  {
   "cell_type": "code",
   "execution_count": 18,
   "metadata": {},
   "outputs": [
    {
     "data": {
      "text/html": [
       "<div>\n",
       "<style scoped>\n",
       "    .dataframe tbody tr th:only-of-type {\n",
       "        vertical-align: middle;\n",
       "    }\n",
       "\n",
       "    .dataframe tbody tr th {\n",
       "        vertical-align: top;\n",
       "    }\n",
       "\n",
       "    .dataframe thead th {\n",
       "        text-align: right;\n",
       "    }\n",
       "</style>\n",
       "<table border=\"1\" class=\"dataframe\">\n",
       "  <thead>\n",
       "    <tr style=\"text-align: right;\">\n",
       "      <th></th>\n",
       "      <th>W</th>\n",
       "      <th>X</th>\n",
       "      <th>Y</th>\n",
       "      <th>Z</th>\n",
       "    </tr>\n",
       "  </thead>\n",
       "  <tbody>\n",
       "    <tr>\n",
       "      <td>A</td>\n",
       "      <td>0.941346</td>\n",
       "      <td>-1.382468</td>\n",
       "      <td>-1.992532</td>\n",
       "      <td>0.143567</td>\n",
       "    </tr>\n",
       "    <tr>\n",
       "      <td>B</td>\n",
       "      <td>1.079978</td>\n",
       "      <td>-1.634423</td>\n",
       "      <td>-1.727656</td>\n",
       "      <td>-0.074905</td>\n",
       "    </tr>\n",
       "    <tr>\n",
       "      <td>E</td>\n",
       "      <td>0.335134</td>\n",
       "      <td>-0.136648</td>\n",
       "      <td>0.202444</td>\n",
       "      <td>-0.934805</td>\n",
       "    </tr>\n",
       "  </tbody>\n",
       "</table>\n",
       "</div>"
      ],
      "text/plain": [
       "          W         X         Y         Z\n",
       "A  0.941346 -1.382468 -1.992532  0.143567\n",
       "B  1.079978 -1.634423 -1.727656 -0.074905\n",
       "E  0.335134 -0.136648  0.202444 -0.934805"
      ]
     },
     "execution_count": 18,
     "metadata": {},
     "output_type": "execute_result"
    }
   ],
   "source": [
    "# Menampilkan data berdasarkan kolom 'W'yang lebih > 0\n",
    "df[df['W'] > 0]"
   ]
  },
  {
   "cell_type": "code",
   "execution_count": 20,
   "metadata": {},
   "outputs": [
    {
     "data": {
      "text/plain": [
       "A   -1.992532\n",
       "B   -1.727656\n",
       "E    0.202444\n",
       "Name: Y, dtype: float64"
      ]
     },
     "execution_count": 20,
     "metadata": {},
     "output_type": "execute_result"
    }
   ],
   "source": [
    "# Menampilkan data kolom 'Y' berdaszrkan kolom 'W' yg lebih dari 0\n",
    "df[df['W']>0] ['Y']"
   ]
  },
  {
   "cell_type": "code",
   "execution_count": 22,
   "metadata": {},
   "outputs": [
    {
     "data": {
      "text/html": [
       "<div>\n",
       "<style scoped>\n",
       "    .dataframe tbody tr th:only-of-type {\n",
       "        vertical-align: middle;\n",
       "    }\n",
       "\n",
       "    .dataframe tbody tr th {\n",
       "        vertical-align: top;\n",
       "    }\n",
       "\n",
       "    .dataframe thead th {\n",
       "        text-align: right;\n",
       "    }\n",
       "</style>\n",
       "<table border=\"1\" class=\"dataframe\">\n",
       "  <thead>\n",
       "    <tr style=\"text-align: right;\">\n",
       "      <th></th>\n",
       "      <th>X</th>\n",
       "      <th>Y</th>\n",
       "      <th>Z</th>\n",
       "    </tr>\n",
       "  </thead>\n",
       "  <tbody>\n",
       "    <tr>\n",
       "      <td>A</td>\n",
       "      <td>-1.382468</td>\n",
       "      <td>-1.992532</td>\n",
       "      <td>0.143567</td>\n",
       "    </tr>\n",
       "    <tr>\n",
       "      <td>B</td>\n",
       "      <td>-1.634423</td>\n",
       "      <td>-1.727656</td>\n",
       "      <td>-0.074905</td>\n",
       "    </tr>\n",
       "    <tr>\n",
       "      <td>E</td>\n",
       "      <td>-0.136648</td>\n",
       "      <td>0.202444</td>\n",
       "      <td>-0.934805</td>\n",
       "    </tr>\n",
       "  </tbody>\n",
       "</table>\n",
       "</div>"
      ],
      "text/plain": [
       "          X         Y         Z\n",
       "A -1.382468 -1.992532  0.143567\n",
       "B -1.634423 -1.727656 -0.074905\n",
       "E -0.136648  0.202444 -0.934805"
      ]
     },
     "execution_count": 22,
     "metadata": {},
     "output_type": "execute_result"
    }
   ],
   "source": [
    "# Menampilkan data kolom 'X, Y, Z' berdaszrkan kolom 'W' yg lebih dari 0\n",
    "df[df['W']>0][['X','Y','Z']]"
   ]
  },
  {
   "cell_type": "code",
   "execution_count": 27,
   "metadata": {},
   "outputs": [
    {
     "data": {
      "text/html": [
       "<div>\n",
       "<style scoped>\n",
       "    .dataframe tbody tr th:only-of-type {\n",
       "        vertical-align: middle;\n",
       "    }\n",
       "\n",
       "    .dataframe tbody tr th {\n",
       "        vertical-align: top;\n",
       "    }\n",
       "\n",
       "    .dataframe thead th {\n",
       "        text-align: right;\n",
       "    }\n",
       "</style>\n",
       "<table border=\"1\" class=\"dataframe\">\n",
       "  <thead>\n",
       "    <tr style=\"text-align: right;\">\n",
       "      <th></th>\n",
       "      <th>W</th>\n",
       "      <th>X</th>\n",
       "      <th>Y</th>\n",
       "      <th>Z</th>\n",
       "    </tr>\n",
       "  </thead>\n",
       "  <tbody>\n",
       "    <tr>\n",
       "      <td>A</td>\n",
       "      <td>0.941346</td>\n",
       "      <td>-1.382468</td>\n",
       "      <td>-1.992532</td>\n",
       "      <td>0.143567</td>\n",
       "    </tr>\n",
       "  </tbody>\n",
       "</table>\n",
       "</div>"
      ],
      "text/plain": [
       "          W         X         Y         Z\n",
       "A  0.941346 -1.382468 -1.992532  0.143567"
      ]
     },
     "execution_count": 27,
     "metadata": {},
     "output_type": "execute_result"
    }
   ],
   "source": [
    "# Menampilkan data kolom berdasarkan kolom 'W' > 0 dan 'Z' > 0\n",
    "df[(df['W']>0) & (df['Z']>0)]"
   ]
  },
  {
   "cell_type": "code",
   "execution_count": 29,
   "metadata": {},
   "outputs": [
    {
     "data": {
      "text/html": [
       "<div>\n",
       "<style scoped>\n",
       "    .dataframe tbody tr th:only-of-type {\n",
       "        vertical-align: middle;\n",
       "    }\n",
       "\n",
       "    .dataframe tbody tr th {\n",
       "        vertical-align: top;\n",
       "    }\n",
       "\n",
       "    .dataframe thead th {\n",
       "        text-align: right;\n",
       "    }\n",
       "</style>\n",
       "<table border=\"1\" class=\"dataframe\">\n",
       "  <thead>\n",
       "    <tr style=\"text-align: right;\">\n",
       "      <th></th>\n",
       "      <th>W</th>\n",
       "      <th>X</th>\n",
       "      <th>Y</th>\n",
       "      <th>Z</th>\n",
       "    </tr>\n",
       "  </thead>\n",
       "  <tbody>\n",
       "    <tr>\n",
       "      <td>B</td>\n",
       "      <td>1.079978</td>\n",
       "      <td>-1.634423</td>\n",
       "      <td>-1.727656</td>\n",
       "      <td>-0.074905</td>\n",
       "    </tr>\n",
       "    <tr>\n",
       "      <td>D</td>\n",
       "      <td>-1.357142</td>\n",
       "      <td>-1.483163</td>\n",
       "      <td>0.454048</td>\n",
       "      <td>0.511561</td>\n",
       "    </tr>\n",
       "    <tr>\n",
       "      <td>E</td>\n",
       "      <td>0.335134</td>\n",
       "      <td>-0.136648</td>\n",
       "      <td>0.202444</td>\n",
       "      <td>-0.934805</td>\n",
       "    </tr>\n",
       "  </tbody>\n",
       "</table>\n",
       "</div>"
      ],
      "text/plain": [
       "          W         X         Y         Z\n",
       "B  1.079978 -1.634423 -1.727656 -0.074905\n",
       "D -1.357142 -1.483163  0.454048  0.511561\n",
       "E  0.335134 -0.136648  0.202444 -0.934805"
      ]
     },
     "execution_count": 29,
     "metadata": {},
     "output_type": "execute_result"
    }
   ],
   "source": [
    "# Menampilkan data kolom 'W' > 1 atau 'Y'> 0\n",
    "df[(df['W']>1) | (df['Y']>0)]"
   ]
  },
  {
   "cell_type": "code",
   "execution_count": 30,
   "metadata": {},
   "outputs": [
    {
     "data": {
      "text/html": [
       "<div>\n",
       "<style scoped>\n",
       "    .dataframe tbody tr th:only-of-type {\n",
       "        vertical-align: middle;\n",
       "    }\n",
       "\n",
       "    .dataframe tbody tr th {\n",
       "        vertical-align: top;\n",
       "    }\n",
       "\n",
       "    .dataframe thead th {\n",
       "        text-align: right;\n",
       "    }\n",
       "</style>\n",
       "<table border=\"1\" class=\"dataframe\">\n",
       "  <thead>\n",
       "    <tr style=\"text-align: right;\">\n",
       "      <th></th>\n",
       "      <th>index</th>\n",
       "      <th>W</th>\n",
       "      <th>X</th>\n",
       "      <th>Y</th>\n",
       "      <th>Z</th>\n",
       "    </tr>\n",
       "  </thead>\n",
       "  <tbody>\n",
       "    <tr>\n",
       "      <td>0</td>\n",
       "      <td>A</td>\n",
       "      <td>0.941346</td>\n",
       "      <td>-1.382468</td>\n",
       "      <td>-1.992532</td>\n",
       "      <td>0.143567</td>\n",
       "    </tr>\n",
       "    <tr>\n",
       "      <td>1</td>\n",
       "      <td>B</td>\n",
       "      <td>1.079978</td>\n",
       "      <td>-1.634423</td>\n",
       "      <td>-1.727656</td>\n",
       "      <td>-0.074905</td>\n",
       "    </tr>\n",
       "    <tr>\n",
       "      <td>2</td>\n",
       "      <td>C</td>\n",
       "      <td>-0.776402</td>\n",
       "      <td>-0.412992</td>\n",
       "      <td>-0.217633</td>\n",
       "      <td>-2.875143</td>\n",
       "    </tr>\n",
       "    <tr>\n",
       "      <td>3</td>\n",
       "      <td>D</td>\n",
       "      <td>-1.357142</td>\n",
       "      <td>-1.483163</td>\n",
       "      <td>0.454048</td>\n",
       "      <td>0.511561</td>\n",
       "    </tr>\n",
       "    <tr>\n",
       "      <td>4</td>\n",
       "      <td>E</td>\n",
       "      <td>0.335134</td>\n",
       "      <td>-0.136648</td>\n",
       "      <td>0.202444</td>\n",
       "      <td>-0.934805</td>\n",
       "    </tr>\n",
       "  </tbody>\n",
       "</table>\n",
       "</div>"
      ],
      "text/plain": [
       "  index         W         X         Y         Z\n",
       "0     A  0.941346 -1.382468 -1.992532  0.143567\n",
       "1     B  1.079978 -1.634423 -1.727656 -0.074905\n",
       "2     C -0.776402 -0.412992 -0.217633 -2.875143\n",
       "3     D -1.357142 -1.483163  0.454048  0.511561\n",
       "4     E  0.335134 -0.136648  0.202444 -0.934805"
      ]
     },
     "execution_count": 30,
     "metadata": {},
     "output_type": "execute_result"
    }
   ],
   "source": [
    "# DETAIL INDEXING\n",
    "# Mereset Index Label menjadiindex default\n",
    "df.reset_index()"
   ]
  },
  {
   "cell_type": "code",
   "execution_count": 40,
   "metadata": {},
   "outputs": [
    {
     "data": {
      "text/html": [
       "<div>\n",
       "<style scoped>\n",
       "    .dataframe tbody tr th:only-of-type {\n",
       "        vertical-align: middle;\n",
       "    }\n",
       "\n",
       "    .dataframe tbody tr th {\n",
       "        vertical-align: top;\n",
       "    }\n",
       "\n",
       "    .dataframe thead th {\n",
       "        text-align: right;\n",
       "    }\n",
       "</style>\n",
       "<table border=\"1\" class=\"dataframe\">\n",
       "  <thead>\n",
       "    <tr style=\"text-align: right;\">\n",
       "      <th></th>\n",
       "      <th>W</th>\n",
       "      <th>X</th>\n",
       "      <th>Y</th>\n",
       "      <th>Z</th>\n",
       "      <th>code</th>\n",
       "    </tr>\n",
       "    <tr>\n",
       "      <th>code</th>\n",
       "      <th></th>\n",
       "      <th></th>\n",
       "      <th></th>\n",
       "      <th></th>\n",
       "      <th></th>\n",
       "    </tr>\n",
       "  </thead>\n",
       "  <tbody>\n",
       "    <tr>\n",
       "      <td>IDN</td>\n",
       "      <td>0.941346</td>\n",
       "      <td>-1.382468</td>\n",
       "      <td>-1.992532</td>\n",
       "      <td>0.143567</td>\n",
       "      <td>IDN</td>\n",
       "    </tr>\n",
       "    <tr>\n",
       "      <td>JPN</td>\n",
       "      <td>1.079978</td>\n",
       "      <td>-1.634423</td>\n",
       "      <td>-1.727656</td>\n",
       "      <td>-0.074905</td>\n",
       "      <td>JPN</td>\n",
       "    </tr>\n",
       "    <tr>\n",
       "      <td>USA</td>\n",
       "      <td>-0.776402</td>\n",
       "      <td>-0.412992</td>\n",
       "      <td>-0.217633</td>\n",
       "      <td>-2.875143</td>\n",
       "      <td>USA</td>\n",
       "    </tr>\n",
       "    <tr>\n",
       "      <td>RSA</td>\n",
       "      <td>-1.357142</td>\n",
       "      <td>-1.483163</td>\n",
       "      <td>0.454048</td>\n",
       "      <td>0.511561</td>\n",
       "      <td>RSA</td>\n",
       "    </tr>\n",
       "    <tr>\n",
       "      <td>MLY</td>\n",
       "      <td>0.335134</td>\n",
       "      <td>-0.136648</td>\n",
       "      <td>0.202444</td>\n",
       "      <td>-0.934805</td>\n",
       "      <td>MLY</td>\n",
       "    </tr>\n",
       "  </tbody>\n",
       "</table>\n",
       "</div>"
      ],
      "text/plain": [
       "             W         X         Y         Z code\n",
       "code                                             \n",
       "IDN   0.941346 -1.382468 -1.992532  0.143567  IDN\n",
       "JPN   1.079978 -1.634423 -1.727656 -0.074905  JPN\n",
       "USA  -0.776402 -0.412992 -0.217633 -2.875143  USA\n",
       "RSA  -1.357142 -1.483163  0.454048  0.511561  RSA\n",
       "MLY   0.335134 -0.136648  0.202444 -0.934805  MLY"
      ]
     },
     "execution_count": 40,
     "metadata": {},
     "output_type": "execute_result"
    }
   ],
   "source": [
    "# Membuat Kolom Baru\n",
    "df['code'] = 'IDN JPN USA RSA MLY'.split()\n",
    "df"
   ]
  },
  {
   "cell_type": "code",
   "execution_count": 41,
   "metadata": {},
   "outputs": [
    {
     "data": {
      "text/html": [
       "<div>\n",
       "<style scoped>\n",
       "    .dataframe tbody tr th:only-of-type {\n",
       "        vertical-align: middle;\n",
       "    }\n",
       "\n",
       "    .dataframe tbody tr th {\n",
       "        vertical-align: top;\n",
       "    }\n",
       "\n",
       "    .dataframe thead th {\n",
       "        text-align: right;\n",
       "    }\n",
       "</style>\n",
       "<table border=\"1\" class=\"dataframe\">\n",
       "  <thead>\n",
       "    <tr style=\"text-align: right;\">\n",
       "      <th></th>\n",
       "      <th>W</th>\n",
       "      <th>X</th>\n",
       "      <th>Y</th>\n",
       "      <th>Z</th>\n",
       "    </tr>\n",
       "    <tr>\n",
       "      <th>code</th>\n",
       "      <th></th>\n",
       "      <th></th>\n",
       "      <th></th>\n",
       "      <th></th>\n",
       "    </tr>\n",
       "  </thead>\n",
       "  <tbody>\n",
       "    <tr>\n",
       "      <td>IDN</td>\n",
       "      <td>0.941346</td>\n",
       "      <td>-1.382468</td>\n",
       "      <td>-1.992532</td>\n",
       "      <td>0.143567</td>\n",
       "    </tr>\n",
       "    <tr>\n",
       "      <td>JPN</td>\n",
       "      <td>1.079978</td>\n",
       "      <td>-1.634423</td>\n",
       "      <td>-1.727656</td>\n",
       "      <td>-0.074905</td>\n",
       "    </tr>\n",
       "    <tr>\n",
       "      <td>USA</td>\n",
       "      <td>-0.776402</td>\n",
       "      <td>-0.412992</td>\n",
       "      <td>-0.217633</td>\n",
       "      <td>-2.875143</td>\n",
       "    </tr>\n",
       "    <tr>\n",
       "      <td>RSA</td>\n",
       "      <td>-1.357142</td>\n",
       "      <td>-1.483163</td>\n",
       "      <td>0.454048</td>\n",
       "      <td>0.511561</td>\n",
       "    </tr>\n",
       "    <tr>\n",
       "      <td>MLY</td>\n",
       "      <td>0.335134</td>\n",
       "      <td>-0.136648</td>\n",
       "      <td>0.202444</td>\n",
       "      <td>-0.934805</td>\n",
       "    </tr>\n",
       "  </tbody>\n",
       "</table>\n",
       "</div>"
      ],
      "text/plain": [
       "             W         X         Y         Z\n",
       "code                                        \n",
       "IDN   0.941346 -1.382468 -1.992532  0.143567\n",
       "JPN   1.079978 -1.634423 -1.727656 -0.074905\n",
       "USA  -0.776402 -0.412992 -0.217633 -2.875143\n",
       "RSA  -1.357142 -1.483163  0.454048  0.511561\n",
       "MLY   0.335134 -0.136648  0.202444 -0.934805"
      ]
     },
     "execution_count": 41,
     "metadata": {},
     "output_type": "execute_result"
    }
   ],
   "source": [
    "df.set_index('code')\n",
    "# Sama halnya dengan 'DROP', jk data ditampilkan tidak ada yg berubah\n",
    "# data awal akan berudah dengan menggunakan 'inplace=True'"
   ]
  },
  {
   "cell_type": "code",
   "execution_count": 42,
   "metadata": {},
   "outputs": [],
   "source": [
    "# Set index secara permanently menggunakan inplace=True\n",
    "df.set_index('code', inplace=True)"
   ]
  },
  {
   "cell_type": "code",
   "execution_count": 43,
   "metadata": {},
   "outputs": [
    {
     "data": {
      "text/html": [
       "<div>\n",
       "<style scoped>\n",
       "    .dataframe tbody tr th:only-of-type {\n",
       "        vertical-align: middle;\n",
       "    }\n",
       "\n",
       "    .dataframe tbody tr th {\n",
       "        vertical-align: top;\n",
       "    }\n",
       "\n",
       "    .dataframe thead th {\n",
       "        text-align: right;\n",
       "    }\n",
       "</style>\n",
       "<table border=\"1\" class=\"dataframe\">\n",
       "  <thead>\n",
       "    <tr style=\"text-align: right;\">\n",
       "      <th></th>\n",
       "      <th>W</th>\n",
       "      <th>X</th>\n",
       "      <th>Y</th>\n",
       "      <th>Z</th>\n",
       "    </tr>\n",
       "    <tr>\n",
       "      <th>code</th>\n",
       "      <th></th>\n",
       "      <th></th>\n",
       "      <th></th>\n",
       "      <th></th>\n",
       "    </tr>\n",
       "  </thead>\n",
       "  <tbody>\n",
       "    <tr>\n",
       "      <td>IDN</td>\n",
       "      <td>0.941346</td>\n",
       "      <td>-1.382468</td>\n",
       "      <td>-1.992532</td>\n",
       "      <td>0.143567</td>\n",
       "    </tr>\n",
       "    <tr>\n",
       "      <td>JPN</td>\n",
       "      <td>1.079978</td>\n",
       "      <td>-1.634423</td>\n",
       "      <td>-1.727656</td>\n",
       "      <td>-0.074905</td>\n",
       "    </tr>\n",
       "    <tr>\n",
       "      <td>USA</td>\n",
       "      <td>-0.776402</td>\n",
       "      <td>-0.412992</td>\n",
       "      <td>-0.217633</td>\n",
       "      <td>-2.875143</td>\n",
       "    </tr>\n",
       "    <tr>\n",
       "      <td>RSA</td>\n",
       "      <td>-1.357142</td>\n",
       "      <td>-1.483163</td>\n",
       "      <td>0.454048</td>\n",
       "      <td>0.511561</td>\n",
       "    </tr>\n",
       "    <tr>\n",
       "      <td>MLY</td>\n",
       "      <td>0.335134</td>\n",
       "      <td>-0.136648</td>\n",
       "      <td>0.202444</td>\n",
       "      <td>-0.934805</td>\n",
       "    </tr>\n",
       "  </tbody>\n",
       "</table>\n",
       "</div>"
      ],
      "text/plain": [
       "             W         X         Y         Z\n",
       "code                                        \n",
       "IDN   0.941346 -1.382468 -1.992532  0.143567\n",
       "JPN   1.079978 -1.634423 -1.727656 -0.074905\n",
       "USA  -0.776402 -0.412992 -0.217633 -2.875143\n",
       "RSA  -1.357142 -1.483163  0.454048  0.511561\n",
       "MLY   0.335134 -0.136648  0.202444 -0.934805"
      ]
     },
     "execution_count": 43,
     "metadata": {},
     "output_type": "execute_result"
    }
   ],
   "source": [
    "df"
   ]
  },
  {
   "cell_type": "code",
   "execution_count": 44,
   "metadata": {},
   "outputs": [],
   "source": [
    "# MULTI INDEXING\n",
    "dataLabels = ['G1', 'G1', 'G1', 'G2', 'G2', 'G2']\n",
    "dataValue = [1,2,3,1,2,3]\n",
    "data = list(zip(dataLabels, dataValue))\n",
    "# 'ZIP' : menggbungkan 2 array / lebih menjadi beberapa tuple\n",
    "# 'LIST' : membuat list dari tuple - tuple yang ada\n",
    "# 'MULTI-INDEX' : membuat beberapa pengindex-an baru dari sebuah tuple\n",
    "data = pd.MultiIndex.from_tuples(data)"
   ]
  },
  {
   "cell_type": "code",
   "execution_count": 45,
   "metadata": {},
   "outputs": [
    {
     "data": {
      "text/plain": [
       "MultiIndex([('G1', 1),\n",
       "            ('G1', 2),\n",
       "            ('G1', 3),\n",
       "            ('G2', 1),\n",
       "            ('G2', 2),\n",
       "            ('G2', 3)],\n",
       "           )"
      ]
     },
     "execution_count": 45,
     "metadata": {},
     "output_type": "execute_result"
    }
   ],
   "source": [
    "data"
   ]
  },
  {
   "cell_type": "code",
   "execution_count": 46,
   "metadata": {},
   "outputs": [
    {
     "data": {
      "text/html": [
       "<div>\n",
       "<style scoped>\n",
       "    .dataframe tbody tr th:only-of-type {\n",
       "        vertical-align: middle;\n",
       "    }\n",
       "\n",
       "    .dataframe tbody tr th {\n",
       "        vertical-align: top;\n",
       "    }\n",
       "\n",
       "    .dataframe thead th {\n",
       "        text-align: right;\n",
       "    }\n",
       "</style>\n",
       "<table border=\"1\" class=\"dataframe\">\n",
       "  <thead>\n",
       "    <tr style=\"text-align: right;\">\n",
       "      <th></th>\n",
       "      <th></th>\n",
       "      <th>A</th>\n",
       "      <th>B</th>\n",
       "    </tr>\n",
       "  </thead>\n",
       "  <tbody>\n",
       "    <tr>\n",
       "      <td rowspan=\"3\" valign=\"top\">G1</td>\n",
       "      <td>1</td>\n",
       "      <td>0.266122</td>\n",
       "      <td>1.707412</td>\n",
       "    </tr>\n",
       "    <tr>\n",
       "      <td>2</td>\n",
       "      <td>1.813627</td>\n",
       "      <td>-1.877769</td>\n",
       "    </tr>\n",
       "    <tr>\n",
       "      <td>3</td>\n",
       "      <td>-0.203442</td>\n",
       "      <td>-0.702241</td>\n",
       "    </tr>\n",
       "    <tr>\n",
       "      <td rowspan=\"3\" valign=\"top\">G2</td>\n",
       "      <td>1</td>\n",
       "      <td>-0.638813</td>\n",
       "      <td>-1.449315</td>\n",
       "    </tr>\n",
       "    <tr>\n",
       "      <td>2</td>\n",
       "      <td>1.981711</td>\n",
       "      <td>0.171561</td>\n",
       "    </tr>\n",
       "    <tr>\n",
       "      <td>3</td>\n",
       "      <td>0.675055</td>\n",
       "      <td>-0.307940</td>\n",
       "    </tr>\n",
       "  </tbody>\n",
       "</table>\n",
       "</div>"
      ],
      "text/plain": [
       "             A         B\n",
       "G1 1  0.266122  1.707412\n",
       "   2  1.813627 -1.877769\n",
       "   3 -0.203442 -0.702241\n",
       "G2 1 -0.638813 -1.449315\n",
       "   2  1.981711  0.171561\n",
       "   3  0.675055 -0.307940"
      ]
     },
     "execution_count": 46,
     "metadata": {},
     "output_type": "execute_result"
    }
   ],
   "source": [
    "df = pd.DataFrame(np.random.randn(6,2), index=data, columns=['A', 'B'])\n",
    "df"
   ]
  },
  {
   "cell_type": "code",
   "execution_count": 48,
   "metadata": {},
   "outputs": [
    {
     "data": {
      "text/html": [
       "<div>\n",
       "<style scoped>\n",
       "    .dataframe tbody tr th:only-of-type {\n",
       "        vertical-align: middle;\n",
       "    }\n",
       "\n",
       "    .dataframe tbody tr th {\n",
       "        vertical-align: top;\n",
       "    }\n",
       "\n",
       "    .dataframe thead th {\n",
       "        text-align: right;\n",
       "    }\n",
       "</style>\n",
       "<table border=\"1\" class=\"dataframe\">\n",
       "  <thead>\n",
       "    <tr style=\"text-align: right;\">\n",
       "      <th></th>\n",
       "      <th>A</th>\n",
       "      <th>B</th>\n",
       "    </tr>\n",
       "  </thead>\n",
       "  <tbody>\n",
       "    <tr>\n",
       "      <td>1</td>\n",
       "      <td>0.266122</td>\n",
       "      <td>1.707412</td>\n",
       "    </tr>\n",
       "    <tr>\n",
       "      <td>2</td>\n",
       "      <td>1.813627</td>\n",
       "      <td>-1.877769</td>\n",
       "    </tr>\n",
       "    <tr>\n",
       "      <td>3</td>\n",
       "      <td>-0.203442</td>\n",
       "      <td>-0.702241</td>\n",
       "    </tr>\n",
       "  </tbody>\n",
       "</table>\n",
       "</div>"
      ],
      "text/plain": [
       "          A         B\n",
       "1  0.266122  1.707412\n",
       "2  1.813627 -1.877769\n",
       "3 -0.203442 -0.702241"
      ]
     },
     "execution_count": 48,
     "metadata": {},
     "output_type": "execute_result"
    }
   ],
   "source": [
    "# Menampilkan index dari 'G1'\n",
    "df.loc['G1']"
   ]
  },
  {
   "cell_type": "code",
   "execution_count": 49,
   "metadata": {},
   "outputs": [
    {
     "data": {
      "text/plain": [
       "A   -0.203442\n",
       "B   -0.702241\n",
       "Name: 3, dtype: float64"
      ]
     },
     "execution_count": 49,
     "metadata": {},
     "output_type": "execute_result"
    }
   ],
   "source": [
    "# Menampilkan index dari 'G1' sub-index-3\n",
    "df.loc['G1'].loc[3]"
   ]
  },
  {
   "cell_type": "code",
   "execution_count": 50,
   "metadata": {},
   "outputs": [
    {
     "data": {
      "text/plain": [
       "FrozenList([None, None])"
      ]
     },
     "execution_count": 50,
     "metadata": {},
     "output_type": "execute_result"
    }
   ],
   "source": [
    "# Melihat Nama Index\n",
    "df.index.names"
   ]
  },
  {
   "cell_type": "code",
   "execution_count": 52,
   "metadata": {},
   "outputs": [
    {
     "data": {
      "text/html": [
       "<div>\n",
       "<style scoped>\n",
       "    .dataframe tbody tr th:only-of-type {\n",
       "        vertical-align: middle;\n",
       "    }\n",
       "\n",
       "    .dataframe tbody tr th {\n",
       "        vertical-align: top;\n",
       "    }\n",
       "\n",
       "    .dataframe thead th {\n",
       "        text-align: right;\n",
       "    }\n",
       "</style>\n",
       "<table border=\"1\" class=\"dataframe\">\n",
       "  <thead>\n",
       "    <tr style=\"text-align: right;\">\n",
       "      <th></th>\n",
       "      <th></th>\n",
       "      <th>A</th>\n",
       "      <th>B</th>\n",
       "    </tr>\n",
       "    <tr>\n",
       "      <th>Group</th>\n",
       "      <th>Num</th>\n",
       "      <th></th>\n",
       "      <th></th>\n",
       "    </tr>\n",
       "  </thead>\n",
       "  <tbody>\n",
       "    <tr>\n",
       "      <td rowspan=\"3\" valign=\"top\">G1</td>\n",
       "      <td>1</td>\n",
       "      <td>0.266122</td>\n",
       "      <td>1.707412</td>\n",
       "    </tr>\n",
       "    <tr>\n",
       "      <td>2</td>\n",
       "      <td>1.813627</td>\n",
       "      <td>-1.877769</td>\n",
       "    </tr>\n",
       "    <tr>\n",
       "      <td>3</td>\n",
       "      <td>-0.203442</td>\n",
       "      <td>-0.702241</td>\n",
       "    </tr>\n",
       "    <tr>\n",
       "      <td rowspan=\"3\" valign=\"top\">G2</td>\n",
       "      <td>1</td>\n",
       "      <td>-0.638813</td>\n",
       "      <td>-1.449315</td>\n",
       "    </tr>\n",
       "    <tr>\n",
       "      <td>2</td>\n",
       "      <td>1.981711</td>\n",
       "      <td>0.171561</td>\n",
       "    </tr>\n",
       "    <tr>\n",
       "      <td>3</td>\n",
       "      <td>0.675055</td>\n",
       "      <td>-0.307940</td>\n",
       "    </tr>\n",
       "  </tbody>\n",
       "</table>\n",
       "</div>"
      ],
      "text/plain": [
       "                  A         B\n",
       "Group Num                    \n",
       "G1    1    0.266122  1.707412\n",
       "      2    1.813627 -1.877769\n",
       "      3   -0.203442 -0.702241\n",
       "G2    1   -0.638813 -1.449315\n",
       "      2    1.981711  0.171561\n",
       "      3    0.675055 -0.307940"
      ]
     },
     "execution_count": 52,
     "metadata": {},
     "output_type": "execute_result"
    }
   ],
   "source": [
    "df.index.names = ['Group', 'Num']\n",
    "df"
   ]
  },
  {
   "cell_type": "code",
   "execution_count": 53,
   "metadata": {},
   "outputs": [
    {
     "data": {
      "text/html": [
       "<div>\n",
       "<style scoped>\n",
       "    .dataframe tbody tr th:only-of-type {\n",
       "        vertical-align: middle;\n",
       "    }\n",
       "\n",
       "    .dataframe tbody tr th {\n",
       "        vertical-align: top;\n",
       "    }\n",
       "\n",
       "    .dataframe thead th {\n",
       "        text-align: right;\n",
       "    }\n",
       "</style>\n",
       "<table border=\"1\" class=\"dataframe\">\n",
       "  <thead>\n",
       "    <tr style=\"text-align: right;\">\n",
       "      <th></th>\n",
       "      <th>A</th>\n",
       "      <th>B</th>\n",
       "    </tr>\n",
       "    <tr>\n",
       "      <th>Num</th>\n",
       "      <th></th>\n",
       "      <th></th>\n",
       "    </tr>\n",
       "  </thead>\n",
       "  <tbody>\n",
       "    <tr>\n",
       "      <td>1</td>\n",
       "      <td>0.266122</td>\n",
       "      <td>1.707412</td>\n",
       "    </tr>\n",
       "    <tr>\n",
       "      <td>2</td>\n",
       "      <td>1.813627</td>\n",
       "      <td>-1.877769</td>\n",
       "    </tr>\n",
       "    <tr>\n",
       "      <td>3</td>\n",
       "      <td>-0.203442</td>\n",
       "      <td>-0.702241</td>\n",
       "    </tr>\n",
       "  </tbody>\n",
       "</table>\n",
       "</div>"
      ],
      "text/plain": [
       "            A         B\n",
       "Num                    \n",
       "1    0.266122  1.707412\n",
       "2    1.813627 -1.877769\n",
       "3   -0.203442 -0.702241"
      ]
     },
     "execution_count": 53,
     "metadata": {},
     "output_type": "execute_result"
    }
   ],
   "source": [
    "# '.XS' : untuk menampilkan dataFrame multiIndex\n",
    "df.xs('G1')"
   ]
  },
  {
   "cell_type": "code",
   "execution_count": 54,
   "metadata": {},
   "outputs": [
    {
     "data": {
      "text/plain": [
       "A    1.813627\n",
       "B   -1.877769\n",
       "Name: (G1, 2), dtype: float64"
      ]
     },
     "execution_count": 54,
     "metadata": {},
     "output_type": "execute_result"
    }
   ],
   "source": [
    "# Menampilkan index 'G1' dgn sub-index ke- 2\n",
    "df.xs(['G1', 2])"
   ]
  },
  {
   "cell_type": "code",
   "execution_count": 57,
   "metadata": {},
   "outputs": [
    {
     "data": {
      "text/html": [
       "<div>\n",
       "<style scoped>\n",
       "    .dataframe tbody tr th:only-of-type {\n",
       "        vertical-align: middle;\n",
       "    }\n",
       "\n",
       "    .dataframe tbody tr th {\n",
       "        vertical-align: top;\n",
       "    }\n",
       "\n",
       "    .dataframe thead th {\n",
       "        text-align: right;\n",
       "    }\n",
       "</style>\n",
       "<table border=\"1\" class=\"dataframe\">\n",
       "  <thead>\n",
       "    <tr style=\"text-align: right;\">\n",
       "      <th></th>\n",
       "      <th>A</th>\n",
       "      <th>B</th>\n",
       "    </tr>\n",
       "    <tr>\n",
       "      <th>Group</th>\n",
       "      <th></th>\n",
       "      <th></th>\n",
       "    </tr>\n",
       "  </thead>\n",
       "  <tbody>\n",
       "    <tr>\n",
       "      <td>G1</td>\n",
       "      <td>1.813627</td>\n",
       "      <td>-1.877769</td>\n",
       "    </tr>\n",
       "    <tr>\n",
       "      <td>G2</td>\n",
       "      <td>1.981711</td>\n",
       "      <td>0.171561</td>\n",
       "    </tr>\n",
       "  </tbody>\n",
       "</table>\n",
       "</div>"
      ],
      "text/plain": [
       "              A         B\n",
       "Group                    \n",
       "G1     1.813627 -1.877769\n",
       "G2     1.981711  0.171561"
      ]
     },
     "execution_count": 57,
     "metadata": {},
     "output_type": "execute_result"
    }
   ],
   "source": [
    "# Menampilkan sub-index ke-2 dari collumn 'num'\n",
    "df.xs(2, level='Num')"
   ]
  },
  {
   "cell_type": "code",
   "execution_count": null,
   "metadata": {},
   "outputs": [],
   "source": []
  }
 ],
 "metadata": {
  "kernelspec": {
   "display_name": "Python 3",
   "language": "python",
   "name": "python3"
  },
  "language_info": {
   "codemirror_mode": {
    "name": "ipython",
    "version": 3
   },
   "file_extension": ".py",
   "mimetype": "text/x-python",
   "name": "python",
   "nbconvert_exporter": "python",
   "pygments_lexer": "ipython3",
   "version": "3.7.4"
  }
 },
 "nbformat": 4,
 "nbformat_minor": 2
}
